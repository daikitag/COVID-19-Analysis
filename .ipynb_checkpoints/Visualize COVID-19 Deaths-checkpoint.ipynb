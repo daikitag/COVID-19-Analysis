{
 "cells": [
  {
   "cell_type": "markdown",
   "metadata": {},
   "source": [
    "# Part 1 - Vsualize COVID-19 Deaths"
   ]
  },
  {
   "cell_type": "code",
   "execution_count": 2,
   "metadata": {},
   "outputs": [],
   "source": [
    "import pandas as pd\n",
    "import matplotlib.pyplot as plt\n",
    "import numpy as np"
   ]
  },
  {
   "cell_type": "markdown",
   "metadata": {},
   "source": [
    "The csv file is taken from National Center for Health Statistics:\n",
    "\n",
    "- https://www.cdc.gov/nchs/nvss/vsrr/covid19/excess_deaths.htm\n",
    "\n",
    "accessed Oct 16, 2020"
   ]
  },
  {
   "cell_type": "code",
   "execution_count": 5,
   "metadata": {},
   "outputs": [],
   "source": [
    "df = pd.read_csv('Data/weekly_deaths.csv')"
   ]
  },
  {
   "cell_type": "code",
   "execution_count": 6,
   "metadata": {},
   "outputs": [
    {
     "data": {
      "text/html": [
       "<div>\n",
       "<style scoped>\n",
       "    .dataframe tbody tr th:only-of-type {\n",
       "        vertical-align: middle;\n",
       "    }\n",
       "\n",
       "    .dataframe tbody tr th {\n",
       "        vertical-align: top;\n",
       "    }\n",
       "\n",
       "    .dataframe thead th {\n",
       "        text-align: right;\n",
       "    }\n",
       "</style>\n",
       "<table border=\"1\" class=\"dataframe\">\n",
       "  <thead>\n",
       "    <tr style=\"text-align: right;\">\n",
       "      <th></th>\n",
       "      <th>Week Ending Date</th>\n",
       "      <th>State</th>\n",
       "      <th>Observed Number</th>\n",
       "      <th>Upper Bound Threshold</th>\n",
       "      <th>Exceeds Threshold</th>\n",
       "      <th>Average Expected Count</th>\n",
       "      <th>Excess Lower Estimate</th>\n",
       "      <th>Excess Higher Estimate</th>\n",
       "      <th>Year</th>\n",
       "      <th>Total Excess Lower Estimate in 2020</th>\n",
       "      <th>Total Excess Higher Estimate in 2020</th>\n",
       "      <th>Percent Excess Lower Estimate</th>\n",
       "      <th>Percent Excess Higher Estimate</th>\n",
       "      <th>Type</th>\n",
       "      <th>Outcome</th>\n",
       "      <th>Suppress</th>\n",
       "      <th>Note</th>\n",
       "    </tr>\n",
       "  </thead>\n",
       "  <tbody>\n",
       "    <tr>\n",
       "      <th>0</th>\n",
       "      <td>1/14/2017</td>\n",
       "      <td>Alabama</td>\n",
       "      <td>1130.0</td>\n",
       "      <td>1199.0</td>\n",
       "      <td>False</td>\n",
       "      <td>1042.0</td>\n",
       "      <td>0.0</td>\n",
       "      <td>88.0</td>\n",
       "      <td>2017</td>\n",
       "      <td>3533</td>\n",
       "      <td>5472</td>\n",
       "      <td>0.0</td>\n",
       "      <td>0.1</td>\n",
       "      <td>Predicted (weighted)</td>\n",
       "      <td>All causes</td>\n",
       "      <td>NaN</td>\n",
       "      <td>NaN</td>\n",
       "    </tr>\n",
       "    <tr>\n",
       "      <th>1</th>\n",
       "      <td>1/21/2017</td>\n",
       "      <td>Alabama</td>\n",
       "      <td>1048.0</td>\n",
       "      <td>1214.0</td>\n",
       "      <td>False</td>\n",
       "      <td>1057.0</td>\n",
       "      <td>0.0</td>\n",
       "      <td>0.0</td>\n",
       "      <td>2017</td>\n",
       "      <td>3533</td>\n",
       "      <td>5472</td>\n",
       "      <td>0.0</td>\n",
       "      <td>0.0</td>\n",
       "      <td>Predicted (weighted)</td>\n",
       "      <td>All causes</td>\n",
       "      <td>NaN</td>\n",
       "      <td>NaN</td>\n",
       "    </tr>\n",
       "    <tr>\n",
       "      <th>2</th>\n",
       "      <td>1/28/2017</td>\n",
       "      <td>Alabama</td>\n",
       "      <td>1026.0</td>\n",
       "      <td>1233.0</td>\n",
       "      <td>False</td>\n",
       "      <td>1076.0</td>\n",
       "      <td>0.0</td>\n",
       "      <td>0.0</td>\n",
       "      <td>2017</td>\n",
       "      <td>3533</td>\n",
       "      <td>5472</td>\n",
       "      <td>0.0</td>\n",
       "      <td>0.0</td>\n",
       "      <td>Predicted (weighted)</td>\n",
       "      <td>All causes</td>\n",
       "      <td>NaN</td>\n",
       "      <td>NaN</td>\n",
       "    </tr>\n",
       "    <tr>\n",
       "      <th>3</th>\n",
       "      <td>2/4/2017</td>\n",
       "      <td>Alabama</td>\n",
       "      <td>1036.0</td>\n",
       "      <td>1231.0</td>\n",
       "      <td>False</td>\n",
       "      <td>1074.0</td>\n",
       "      <td>0.0</td>\n",
       "      <td>0.0</td>\n",
       "      <td>2017</td>\n",
       "      <td>3533</td>\n",
       "      <td>5472</td>\n",
       "      <td>0.0</td>\n",
       "      <td>0.0</td>\n",
       "      <td>Predicted (weighted)</td>\n",
       "      <td>All causes</td>\n",
       "      <td>NaN</td>\n",
       "      <td>NaN</td>\n",
       "    </tr>\n",
       "    <tr>\n",
       "      <th>4</th>\n",
       "      <td>2/11/2017</td>\n",
       "      <td>Alabama</td>\n",
       "      <td>1058.0</td>\n",
       "      <td>1224.0</td>\n",
       "      <td>False</td>\n",
       "      <td>1071.0</td>\n",
       "      <td>0.0</td>\n",
       "      <td>0.0</td>\n",
       "      <td>2017</td>\n",
       "      <td>3533</td>\n",
       "      <td>5472</td>\n",
       "      <td>0.0</td>\n",
       "      <td>0.0</td>\n",
       "      <td>Predicted (weighted)</td>\n",
       "      <td>All causes</td>\n",
       "      <td>NaN</td>\n",
       "      <td>NaN</td>\n",
       "    </tr>\n",
       "  </tbody>\n",
       "</table>\n",
       "</div>"
      ],
      "text/plain": [
       "  Week Ending Date    State  Observed Number  Upper Bound Threshold  \\\n",
       "0        1/14/2017  Alabama           1130.0                 1199.0   \n",
       "1        1/21/2017  Alabama           1048.0                 1214.0   \n",
       "2        1/28/2017  Alabama           1026.0                 1233.0   \n",
       "3         2/4/2017  Alabama           1036.0                 1231.0   \n",
       "4        2/11/2017  Alabama           1058.0                 1224.0   \n",
       "\n",
       "   Exceeds Threshold  Average Expected Count  Excess Lower Estimate  \\\n",
       "0              False                  1042.0                    0.0   \n",
       "1              False                  1057.0                    0.0   \n",
       "2              False                  1076.0                    0.0   \n",
       "3              False                  1074.0                    0.0   \n",
       "4              False                  1071.0                    0.0   \n",
       "\n",
       "   Excess Higher Estimate  Year  Total Excess Lower Estimate in 2020  \\\n",
       "0                    88.0  2017                                 3533   \n",
       "1                     0.0  2017                                 3533   \n",
       "2                     0.0  2017                                 3533   \n",
       "3                     0.0  2017                                 3533   \n",
       "4                     0.0  2017                                 3533   \n",
       "\n",
       "   Total Excess Higher Estimate in 2020  Percent Excess Lower Estimate  \\\n",
       "0                                  5472                            0.0   \n",
       "1                                  5472                            0.0   \n",
       "2                                  5472                            0.0   \n",
       "3                                  5472                            0.0   \n",
       "4                                  5472                            0.0   \n",
       "\n",
       "   Percent Excess Higher Estimate                  Type     Outcome Suppress  \\\n",
       "0                             0.1  Predicted (weighted)  All causes      NaN   \n",
       "1                             0.0  Predicted (weighted)  All causes      NaN   \n",
       "2                             0.0  Predicted (weighted)  All causes      NaN   \n",
       "3                             0.0  Predicted (weighted)  All causes      NaN   \n",
       "4                             0.0  Predicted (weighted)  All causes      NaN   \n",
       "\n",
       "  Note  \n",
       "0  NaN  \n",
       "1  NaN  \n",
       "2  NaN  \n",
       "3  NaN  \n",
       "4  NaN  "
      ]
     },
     "execution_count": 6,
     "metadata": {},
     "output_type": "execute_result"
    }
   ],
   "source": [
    "df.head()"
   ]
  },
  {
   "cell_type": "code",
   "execution_count": 7,
   "metadata": {},
   "outputs": [],
   "source": [
    "# Get 2020 data\n",
    "df = df[df['Year']==2020]"
   ]
  },
  {
   "cell_type": "code",
   "execution_count": 8,
   "metadata": {},
   "outputs": [],
   "source": [
    "# There are two types of deaths. We are only intereseted in weighted deaths\n",
    "df = df[df['Type']=='Predicted (weighted)']"
   ]
  },
  {
   "cell_type": "code",
   "execution_count": 9,
   "metadata": {},
   "outputs": [],
   "source": [
    "def function(row):\n",
    "    if row['Week Ending Date'][0] == '2':\n",
    "        return 'Feb'\n",
    "    if row['Week Ending Date'][0] == '3':\n",
    "        return 'March'\n",
    "    if row['Week Ending Date'][0] == '4':\n",
    "        return 'April'\n",
    "    elif row['Week Ending Date'][0] == '5':\n",
    "        return 'May'\n",
    "    elif row['Week Ending Date'][0] == '6':\n",
    "        return 'June'\n",
    "    elif row['Week Ending Date'][0] == '7':\n",
    "        return 'July'\n",
    "    elif row['Week Ending Date'][0] == '8':\n",
    "        return 'August'\n",
    "    elif row['Week Ending Date'][0] == '9':\n",
    "        return 'September'\n",
    "    else:\n",
    "        return 'NaN'"
   ]
  },
  {
   "cell_type": "code",
   "execution_count": 10,
   "metadata": {},
   "outputs": [],
   "source": [
    "# Classify the weeks by months by using week ending date\n",
    "df['Month'] = df.apply(function, axis=1)"
   ]
  },
  {
   "cell_type": "code",
   "execution_count": 11,
   "metadata": {},
   "outputs": [],
   "source": [
    "# Get national data\n",
    "df = df[df['State']=='United States']"
   ]
  },
  {
   "cell_type": "code",
   "execution_count": 12,
   "metadata": {},
   "outputs": [],
   "source": [
    "# Separate dataframe based on all casuses or death causes excluding COVID-19\n",
    "all_case = df['Outcome'] == 'All causes'\n",
    "no_covid = df['Outcome'] == 'All causes, excluding COVID-19'\n",
    "\n",
    "all_df = df[all_case]\n",
    "nocovid_df = df[no_covid]"
   ]
  },
  {
   "cell_type": "code",
   "execution_count": 13,
   "metadata": {},
   "outputs": [],
   "source": [
    "# Get montly death counts\n",
    "month = ['Feb','March','April', 'May', 'June', 'July', 'August', 'September']\n",
    "\n",
    "deaths = []\n",
    "\n",
    "for i in month:\n",
    "    data = all_df[all_df['Month']== i]\n",
    "    deaths.append(np.sum(data['Observed Number']))"
   ]
  },
  {
   "cell_type": "code",
   "execution_count": 14,
   "metadata": {},
   "outputs": [],
   "source": [
    "no_covid = []\n",
    "\n",
    "for i in month:\n",
    "    data = nocovid_df[nocovid_df['Month']== i]\n",
    "    no_covid.append(np.sum(data['Observed Number']))"
   ]
  },
  {
   "cell_type": "code",
   "execution_count": 15,
   "metadata": {},
   "outputs": [],
   "source": [
    "# Get covid-19 death counts\n",
    "deaths = np.array(deaths)\n",
    "no_covid = np.array(no_covid)\n",
    "covid = deaths - no_covid"
   ]
  },
  {
   "cell_type": "code",
   "execution_count": 16,
   "metadata": {},
   "outputs": [],
   "source": [
    "percentage = covid / deaths"
   ]
  },
  {
   "cell_type": "code",
   "execution_count": 17,
   "metadata": {},
   "outputs": [
    {
     "data": {
      "text/plain": [
       "array([5.42363689e-05, 1.59294908e-02, 1.94804077e-01, 1.45711855e-01,\n",
       "       7.21341133e-02, 1.02272591e-01, 1.11861184e-01, 7.59212642e-02])"
      ]
     },
     "execution_count": 17,
     "metadata": {},
     "output_type": "execute_result"
    }
   ],
   "source": [
    "percentage"
   ]
  },
  {
   "cell_type": "code",
   "execution_count": 18,
   "metadata": {},
   "outputs": [],
   "source": [
    "# For labels\n",
    "percent = ['0.0%','1.6%', '19.5%','14.6%','7.2%','10.2%','11.2%','7.6%']"
   ]
  },
  {
   "cell_type": "code",
   "execution_count": 19,
   "metadata": {},
   "outputs": [
    {
     "data": {
      "image/png": "[encoded data removed]",
      "text/plain": [
       "<Figure size 720x432 with 1 Axes>"
      ]
     },
     "metadata": {
      "needs_background": "light"
     },
     "output_type": "display_data"
    }
   ],
   "source": [
    "# Created a stacked bar chart\n",
    "\n",
    "label = ['Feb','March','April','May','June','July','Aug','Sep']\n",
    "y_value1 = no_covid\n",
    "y_value2 = covid\n",
    "\n",
    "fig, axs = plt.subplots(figsize=(10,6))\n",
    "\n",
    "p1 = axs.bar(label, y_value1, color='darkgray')   \n",
    "p2 = axs.bar(label, y_value2, bottom=y_value1, color='indianred')\n",
    "\n",
    "axs.set_title(\"2020 U.S. Monthly Number of Deaths\", fontsize=20, fontweight=\"bold\", pad=30)   \n",
    "axs.set_ylabel(\"Number of Deaths\", fontsize=14)\n",
    "axs.tick_params(labelsize=16)  \n",
    "axs.spines['right'].set_visible(False)\n",
    "axs.spines['top'].set_visible(False)\n",
    "axs.legend((p1[0],p2[0]),('Excluding COVID-19','COVID-19 Deaths'),bbox_to_anchor=(1.03,0.8),fontsize=15)\n",
    "\n",
    "for i in range(len(percent)):\n",
    "    plt.text(i-0.3, deaths[i] + 5000, percent[i], color='darkred', size=16)\n",
    "\n",
    "plt.show() "
   ]
  },
  {
   "cell_type": "code",
   "execution_count": null,
   "metadata": {},
   "outputs": [],
   "source": []
  }
 ],
 "metadata": {
  "kernelspec": {
   "display_name": "Python 3",
   "language": "python",
   "name": "python3"
  },
  "language_info": {
   "codemirror_mode": {
    "name": "ipython",
    "version": 3
   },
   "file_extension": ".py",
   "mimetype": "text/x-python",
   "name": "python",
   "nbconvert_exporter": "python",
   "pygments_lexer": "ipython3",
   "version": "3.6.12"
  }
 },
 "nbformat": 4,
 "nbformat_minor": 4
}
